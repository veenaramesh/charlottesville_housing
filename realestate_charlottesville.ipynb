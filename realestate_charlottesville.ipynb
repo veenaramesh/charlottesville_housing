{
 "cells": [
  {
   "cell_type": "code",
   "execution_count": 14,
   "metadata": {},
   "outputs": [
    {
     "data": {
      "text/html": [
       "<div>\n",
       "<style>\n",
       "    .dataframe thead tr:only-child th {\n",
       "        text-align: right;\n",
       "    }\n",
       "\n",
       "    .dataframe thead th {\n",
       "        text-align: left;\n",
       "    }\n",
       "\n",
       "    .dataframe tbody tr th {\n",
       "        vertical-align: top;\n",
       "    }\n",
       "</style>\n",
       "<table border=\"1\" class=\"dataframe\">\n",
       "  <thead>\n",
       "    <tr style=\"text-align: right;\">\n",
       "      <th></th>\n",
       "      <th>RecordID_Int</th>\n",
       "      <th>ParcelNumber</th>\n",
       "      <th>SaleDate</th>\n",
       "      <th>SaleAmount</th>\n",
       "      <th>BookPage</th>\n",
       "    </tr>\n",
       "  </thead>\n",
       "  <tbody>\n",
       "    <tr>\n",
       "      <th>0</th>\n",
       "      <td>1001</td>\n",
       "      <td>030137000</td>\n",
       "      <td>1961-10-02T00:00:00.000Z</td>\n",
       "      <td>18000</td>\n",
       "      <td>228:297</td>\n",
       "    </tr>\n",
       "    <tr>\n",
       "      <th>1</th>\n",
       "      <td>1002</td>\n",
       "      <td>030138000</td>\n",
       "      <td>2009-08-27T00:00:00.000Z</td>\n",
       "      <td>0</td>\n",
       "      <td>2009:3843</td>\n",
       "    </tr>\n",
       "    <tr>\n",
       "      <th>2</th>\n",
       "      <td>1003</td>\n",
       "      <td>030138000</td>\n",
       "      <td>1961-10-02T00:00:00.000Z</td>\n",
       "      <td>18000</td>\n",
       "      <td>228:297</td>\n",
       "    </tr>\n",
       "    <tr>\n",
       "      <th>3</th>\n",
       "      <td>1004</td>\n",
       "      <td>030139000</td>\n",
       "      <td>1978-05-26T00:00:00.000Z</td>\n",
       "      <td>120000</td>\n",
       "      <td>392:685</td>\n",
       "    </tr>\n",
       "    <tr>\n",
       "      <th>4</th>\n",
       "      <td>1005</td>\n",
       "      <td>030139000</td>\n",
       "      <td>1998-02-11T00:00:00.000Z</td>\n",
       "      <td>915000</td>\n",
       "      <td>712:342</td>\n",
       "    </tr>\n",
       "  </tbody>\n",
       "</table>\n",
       "</div>"
      ],
      "text/plain": [
       "   RecordID_Int ParcelNumber                  SaleDate  SaleAmount   BookPage\n",
       "0          1001    030137000  1961-10-02T00:00:00.000Z       18000    228:297\n",
       "1          1002    030138000  2009-08-27T00:00:00.000Z           0  2009:3843\n",
       "2          1003    030138000  1961-10-02T00:00:00.000Z       18000    228:297\n",
       "3          1004    030139000  1978-05-26T00:00:00.000Z      120000    392:685\n",
       "4          1005    030139000  1998-02-11T00:00:00.000Z      915000    712:342"
      ]
     },
     "execution_count": 14,
     "metadata": {},
     "output_type": "execute_result"
    }
   ],
   "source": [
    "import pandas as pd\n",
    "import numpy as np\n",
    "import matplotlib.pyplot as plt\n",
    "import seaborn as sns\n",
    "sales = pd.read_csv(\"Real_Estate_Sales.csv\")\n",
    "sales.head()"
   ]
  },
  {
   "cell_type": "code",
   "execution_count": 15,
   "metadata": {},
   "outputs": [
    {
     "data": {
      "text/html": [
       "<div>\n",
       "<style>\n",
       "    .dataframe thead tr:only-child th {\n",
       "        text-align: right;\n",
       "    }\n",
       "\n",
       "    .dataframe thead th {\n",
       "        text-align: left;\n",
       "    }\n",
       "\n",
       "    .dataframe tbody tr th {\n",
       "        vertical-align: top;\n",
       "    }\n",
       "</style>\n",
       "<table border=\"1\" class=\"dataframe\">\n",
       "  <thead>\n",
       "    <tr style=\"text-align: right;\">\n",
       "      <th></th>\n",
       "      <th>RecordID_Int</th>\n",
       "      <th>ParcelNumber</th>\n",
       "      <th>SaleAmount</th>\n",
       "      <th>BookPage</th>\n",
       "    </tr>\n",
       "    <tr>\n",
       "      <th>SaleDate</th>\n",
       "      <th></th>\n",
       "      <th></th>\n",
       "      <th></th>\n",
       "      <th></th>\n",
       "    </tr>\n",
       "  </thead>\n",
       "  <tbody>\n",
       "    <tr>\n",
       "      <th>1961-10-02</th>\n",
       "      <td>1001</td>\n",
       "      <td>030137000</td>\n",
       "      <td>18000</td>\n",
       "      <td>228:297</td>\n",
       "    </tr>\n",
       "    <tr>\n",
       "      <th>2009-08-27</th>\n",
       "      <td>1002</td>\n",
       "      <td>030138000</td>\n",
       "      <td>0</td>\n",
       "      <td>2009:3843</td>\n",
       "    </tr>\n",
       "    <tr>\n",
       "      <th>1961-10-02</th>\n",
       "      <td>1003</td>\n",
       "      <td>030138000</td>\n",
       "      <td>18000</td>\n",
       "      <td>228:297</td>\n",
       "    </tr>\n",
       "    <tr>\n",
       "      <th>1978-05-26</th>\n",
       "      <td>1004</td>\n",
       "      <td>030139000</td>\n",
       "      <td>120000</td>\n",
       "      <td>392:685</td>\n",
       "    </tr>\n",
       "    <tr>\n",
       "      <th>1998-02-11</th>\n",
       "      <td>1005</td>\n",
       "      <td>030139000</td>\n",
       "      <td>915000</td>\n",
       "      <td>712:342</td>\n",
       "    </tr>\n",
       "  </tbody>\n",
       "</table>\n",
       "</div>"
      ],
      "text/plain": [
       "            RecordID_Int ParcelNumber  SaleAmount   BookPage\n",
       "SaleDate                                                    \n",
       "1961-10-02          1001    030137000       18000    228:297\n",
       "2009-08-27          1002    030138000           0  2009:3843\n",
       "1961-10-02          1003    030138000       18000    228:297\n",
       "1978-05-26          1004    030139000      120000    392:685\n",
       "1998-02-11          1005    030139000      915000    712:342"
      ]
     },
     "execution_count": 15,
     "metadata": {},
     "output_type": "execute_result"
    }
   ],
   "source": [
    "dateparse = lambda dates: pd.datetime.strptime(dates, \"%Y-%m-%dT%H:%M:%S.%fZ\")\n",
    "sales = pd.read_csv('Real_Estate_Sales.csv', parse_dates=['SaleDate'], index_col = [\"SaleDate\"], date_parser=dateparse)\n",
    "sales.head()"
   ]
  },
  {
   "cell_type": "code",
   "execution_count": 7,
   "metadata": {},
   "outputs": [
    {
     "data": {
      "text/html": [
       "<div>\n",
       "<style>\n",
       "    .dataframe thead tr:only-child th {\n",
       "        text-align: right;\n",
       "    }\n",
       "\n",
       "    .dataframe thead th {\n",
       "        text-align: left;\n",
       "    }\n",
       "\n",
       "    .dataframe tbody tr th {\n",
       "        vertical-align: top;\n",
       "    }\n",
       "</style>\n",
       "<table border=\"1\" class=\"dataframe\">\n",
       "  <thead>\n",
       "    <tr style=\"text-align: right;\">\n",
       "      <th></th>\n",
       "      <th>RecordID_Int</th>\n",
       "      <th>ParcelNumber</th>\n",
       "      <th>SaleAmount</th>\n",
       "      <th>BookPage</th>\n",
       "    </tr>\n",
       "    <tr>\n",
       "      <th>SaleDate</th>\n",
       "      <th></th>\n",
       "      <th></th>\n",
       "      <th></th>\n",
       "      <th></th>\n",
       "    </tr>\n",
       "  </thead>\n",
       "  <tbody>\n",
       "    <tr>\n",
       "      <th>1961-10-02</th>\n",
       "      <td>1001</td>\n",
       "      <td>030137000</td>\n",
       "      <td>18000.0</td>\n",
       "      <td>228:297</td>\n",
       "    </tr>\n",
       "    <tr>\n",
       "      <th>1961-10-02</th>\n",
       "      <td>1003</td>\n",
       "      <td>030138000</td>\n",
       "      <td>18000.0</td>\n",
       "      <td>228:297</td>\n",
       "    </tr>\n",
       "    <tr>\n",
       "      <th>1978-05-26</th>\n",
       "      <td>1004</td>\n",
       "      <td>030139000</td>\n",
       "      <td>120000.0</td>\n",
       "      <td>392:685</td>\n",
       "    </tr>\n",
       "    <tr>\n",
       "      <th>1998-02-11</th>\n",
       "      <td>1005</td>\n",
       "      <td>030139000</td>\n",
       "      <td>915000.0</td>\n",
       "      <td>712:342</td>\n",
       "    </tr>\n",
       "    <tr>\n",
       "      <th>1998-02-11</th>\n",
       "      <td>1006</td>\n",
       "      <td>030139100</td>\n",
       "      <td>915000.0</td>\n",
       "      <td>712:342</td>\n",
       "    </tr>\n",
       "  </tbody>\n",
       "</table>\n",
       "</div>"
      ],
      "text/plain": [
       "            RecordID_Int ParcelNumber  SaleAmount BookPage\n",
       "SaleDate                                                  \n",
       "1961-10-02          1001    030137000     18000.0  228:297\n",
       "1961-10-02          1003    030138000     18000.0  228:297\n",
       "1978-05-26          1004    030139000    120000.0  392:685\n",
       "1998-02-11          1005    030139000    915000.0  712:342\n",
       "1998-02-11          1006    030139100    915000.0  712:342"
      ]
     },
     "execution_count": 7,
     "metadata": {},
     "output_type": "execute_result"
    }
   ],
   "source": [
    "sales.replace(0, np.nan, inplace = True)\n",
    "sales.head()\n",
    "sales.dropna(axis=0, how='any', inplace = True)\n",
    "sales.head()"
   ]
  },
  {
   "cell_type": "code",
   "execution_count": 8,
   "metadata": {},
   "outputs": [
    {
     "name": "stdout",
     "output_type": "stream",
     "text": [
      "33583\n",
      "33583\n"
     ]
    }
   ],
   "source": [
    "monies = []\n",
    "for i in sales[\"SaleAmount\"]:\n",
    "    monies.append(i)\n",
    "dates = []\n",
    "for i in sales.index:\n",
    "    dates.append(i)\n",
    "\n",
    "print(len(monies))\n",
    "print(len(dates))"
   ]
  },
  {
   "cell_type": "code",
   "execution_count": 10,
   "metadata": {
    "slideshow": {
     "slide_type": "slide"
    }
   },
   "outputs": [
    {
     "data": {
      "image/png": "[encoded data removed]",
      "text/plain": [
       "<matplotlib.figure.Figure at 0x20076058a90>"
      ]
     },
     "metadata": {},
     "output_type": "display_data"
    }
   ],
   "source": [
    "plt.scatter(dates, monies, alpha = .4)\n",
    "plt.show()"
   ]
  },
  {
   "cell_type": "code",
   "execution_count": 11,
   "metadata": {},
   "outputs": [
    {
     "data": {
      "image/png": "[encoded data removed]",
      "text/plain": [
       "<matplotlib.figure.Figure at 0x200779a5a20>"
      ]
     },
     "metadata": {},
     "output_type": "display_data"
    }
   ],
   "source": [
    "amount = sales[\"SaleAmount\"]\n",
    "plt.plot(amount)\n",
    "plt.show()"
   ]
  },
  {
   "cell_type": "code",
   "execution_count": 20,
   "metadata": {},
   "outputs": [
    {
     "data": {
      "text/html": [
       "<div>\n",
       "<style>\n",
       "    .dataframe thead tr:only-child th {\n",
       "        text-align: right;\n",
       "    }\n",
       "\n",
       "    .dataframe thead th {\n",
       "        text-align: left;\n",
       "    }\n",
       "\n",
       "    .dataframe tbody tr th {\n",
       "        vertical-align: top;\n",
       "    }\n",
       "</style>\n",
       "<table border=\"1\" class=\"dataframe\">\n",
       "  <thead>\n",
       "    <tr style=\"text-align: right;\">\n",
       "      <th></th>\n",
       "      <th>geo_name</th>\n",
       "      <th>geo_sumlevel</th>\n",
       "      <th>geo_id</th>\n",
       "      <th>income_2013</th>\n",
       "      <th>income_2014</th>\n",
       "      <th>income_2015</th>\n",
       "      <th>income_2016</th>\n",
       "      <th>median_property_value_2013</th>\n",
       "      <th>median_property_value_2014</th>\n",
       "      <th>median_property_value_2015</th>\n",
       "      <th>median_property_value_2016</th>\n",
       "    </tr>\n",
       "  </thead>\n",
       "  <tbody>\n",
       "    <tr>\n",
       "      <th>0</th>\n",
       "      <td>Abanda, AL</td>\n",
       "      <td>place</td>\n",
       "      <td>16000US0100100</td>\n",
       "      <td>NaN</td>\n",
       "      <td>NaN</td>\n",
       "      <td>11207.0</td>\n",
       "      <td>NaN</td>\n",
       "      <td>NaN</td>\n",
       "      <td>NaN</td>\n",
       "      <td>NaN</td>\n",
       "      <td>NaN</td>\n",
       "    </tr>\n",
       "    <tr>\n",
       "      <th>1</th>\n",
       "      <td>Abbeville, AL</td>\n",
       "      <td>place</td>\n",
       "      <td>16000US0100124</td>\n",
       "      <td>26500.0</td>\n",
       "      <td>27989.0</td>\n",
       "      <td>25615.0</td>\n",
       "      <td>28148.0</td>\n",
       "      <td>84600.0</td>\n",
       "      <td>77900.0</td>\n",
       "      <td>71600.0</td>\n",
       "      <td>77700.0</td>\n",
       "    </tr>\n",
       "    <tr>\n",
       "      <th>2</th>\n",
       "      <td>Adamsville, AL</td>\n",
       "      <td>place</td>\n",
       "      <td>16000US0100460</td>\n",
       "      <td>45488.0</td>\n",
       "      <td>46005.0</td>\n",
       "      <td>42575.0</td>\n",
       "      <td>44833.0</td>\n",
       "      <td>99400.0</td>\n",
       "      <td>91900.0</td>\n",
       "      <td>95000.0</td>\n",
       "      <td>95300.0</td>\n",
       "    </tr>\n",
       "    <tr>\n",
       "      <th>3</th>\n",
       "      <td>Addison, AL</td>\n",
       "      <td>place</td>\n",
       "      <td>16000US0100484</td>\n",
       "      <td>37917.0</td>\n",
       "      <td>38194.0</td>\n",
       "      <td>37083.0</td>\n",
       "      <td>34063.0</td>\n",
       "      <td>97000.0</td>\n",
       "      <td>94800.0</td>\n",
       "      <td>69300.0</td>\n",
       "      <td>67100.0</td>\n",
       "    </tr>\n",
       "    <tr>\n",
       "      <th>4</th>\n",
       "      <td>Akron, AL</td>\n",
       "      <td>place</td>\n",
       "      <td>16000US0100676</td>\n",
       "      <td>23036.0</td>\n",
       "      <td>22813.0</td>\n",
       "      <td>21667.0</td>\n",
       "      <td>17344.0</td>\n",
       "      <td>61700.0</td>\n",
       "      <td>76400.0</td>\n",
       "      <td>72500.0</td>\n",
       "      <td>63300.0</td>\n",
       "    </tr>\n",
       "  </tbody>\n",
       "</table>\n",
       "</div>"
      ],
      "text/plain": [
       "         geo_name geo_sumlevel          geo_id  income_2013  income_2014  \\\n",
       "0      Abanda, AL        place  16000US0100100          NaN          NaN   \n",
       "1   Abbeville, AL        place  16000US0100124      26500.0      27989.0   \n",
       "2  Adamsville, AL        place  16000US0100460      45488.0      46005.0   \n",
       "3     Addison, AL        place  16000US0100484      37917.0      38194.0   \n",
       "4       Akron, AL        place  16000US0100676      23036.0      22813.0   \n",
       "\n",
       "   income_2015  income_2016  median_property_value_2013  \\\n",
       "0      11207.0          NaN                         NaN   \n",
       "1      25615.0      28148.0                     84600.0   \n",
       "2      42575.0      44833.0                     99400.0   \n",
       "3      37083.0      34063.0                     97000.0   \n",
       "4      21667.0      17344.0                     61700.0   \n",
       "\n",
       "   median_property_value_2014  median_property_value_2015  \\\n",
       "0                         NaN                         NaN   \n",
       "1                     77900.0                     71600.0   \n",
       "2                     91900.0                     95000.0   \n",
       "3                     94800.0                     69300.0   \n",
       "4                     76400.0                     72500.0   \n",
       "\n",
       "   median_property_value_2016  \n",
       "0                         NaN  \n",
       "1                     77700.0  \n",
       "2                     95300.0  \n",
       "3                     67100.0  \n",
       "4                     63300.0  "
      ]
     },
     "execution_count": 20,
     "metadata": {},
     "output_type": "execute_result"
    }
   ],
   "source": [
    "data = pd.read_csv(\"Data USA Cart.csv\")\n",
    "data.head()"
   ]
  },
  {
   "cell_type": "code",
   "execution_count": 21,
   "metadata": {},
   "outputs": [
    {
     "data": {
      "text/html": [
       "<div>\n",
       "<style>\n",
       "    .dataframe thead tr:only-child th {\n",
       "        text-align: right;\n",
       "    }\n",
       "\n",
       "    .dataframe thead th {\n",
       "        text-align: left;\n",
       "    }\n",
       "\n",
       "    .dataframe tbody tr th {\n",
       "        vertical-align: top;\n",
       "    }\n",
       "</style>\n",
       "<table border=\"1\" class=\"dataframe\">\n",
       "  <thead>\n",
       "    <tr style=\"text-align: right;\">\n",
       "      <th></th>\n",
       "      <th>geo_name</th>\n",
       "      <th>geo_sumlevel</th>\n",
       "      <th>geo_id</th>\n",
       "      <th>income_2013</th>\n",
       "      <th>income_2014</th>\n",
       "      <th>income_2015</th>\n",
       "      <th>income_2016</th>\n",
       "      <th>median_property_value_2013</th>\n",
       "      <th>median_property_value_2014</th>\n",
       "      <th>median_property_value_2015</th>\n",
       "      <th>median_property_value_2016</th>\n",
       "    </tr>\n",
       "  </thead>\n",
       "  <tbody>\n",
       "    <tr>\n",
       "      <th>1</th>\n",
       "      <td>Abbeville, AL</td>\n",
       "      <td>place</td>\n",
       "      <td>16000US0100124</td>\n",
       "      <td>26500.0</td>\n",
       "      <td>27989.0</td>\n",
       "      <td>25615.0</td>\n",
       "      <td>28148.0</td>\n",
       "      <td>84600.0</td>\n",
       "      <td>77900.0</td>\n",
       "      <td>71600.0</td>\n",
       "      <td>77700.0</td>\n",
       "    </tr>\n",
       "    <tr>\n",
       "      <th>2</th>\n",
       "      <td>Adamsville, AL</td>\n",
       "      <td>place</td>\n",
       "      <td>16000US0100460</td>\n",
       "      <td>45488.0</td>\n",
       "      <td>46005.0</td>\n",
       "      <td>42575.0</td>\n",
       "      <td>44833.0</td>\n",
       "      <td>99400.0</td>\n",
       "      <td>91900.0</td>\n",
       "      <td>95000.0</td>\n",
       "      <td>95300.0</td>\n",
       "    </tr>\n",
       "    <tr>\n",
       "      <th>3</th>\n",
       "      <td>Addison, AL</td>\n",
       "      <td>place</td>\n",
       "      <td>16000US0100484</td>\n",
       "      <td>37917.0</td>\n",
       "      <td>38194.0</td>\n",
       "      <td>37083.0</td>\n",
       "      <td>34063.0</td>\n",
       "      <td>97000.0</td>\n",
       "      <td>94800.0</td>\n",
       "      <td>69300.0</td>\n",
       "      <td>67100.0</td>\n",
       "    </tr>\n",
       "    <tr>\n",
       "      <th>4</th>\n",
       "      <td>Akron, AL</td>\n",
       "      <td>place</td>\n",
       "      <td>16000US0100676</td>\n",
       "      <td>23036.0</td>\n",
       "      <td>22813.0</td>\n",
       "      <td>21667.0</td>\n",
       "      <td>17344.0</td>\n",
       "      <td>61700.0</td>\n",
       "      <td>76400.0</td>\n",
       "      <td>72500.0</td>\n",
       "      <td>63300.0</td>\n",
       "    </tr>\n",
       "    <tr>\n",
       "      <th>5</th>\n",
       "      <td>Alabaster, AL</td>\n",
       "      <td>place</td>\n",
       "      <td>16000US0100820</td>\n",
       "      <td>70397.0</td>\n",
       "      <td>70173.0</td>\n",
       "      <td>71816.0</td>\n",
       "      <td>73325.0</td>\n",
       "      <td>162700.0</td>\n",
       "      <td>164200.0</td>\n",
       "      <td>165800.0</td>\n",
       "      <td>166300.0</td>\n",
       "    </tr>\n",
       "  </tbody>\n",
       "</table>\n",
       "</div>"
      ],
      "text/plain": [
       "         geo_name geo_sumlevel          geo_id  income_2013  income_2014  \\\n",
       "1   Abbeville, AL        place  16000US0100124      26500.0      27989.0   \n",
       "2  Adamsville, AL        place  16000US0100460      45488.0      46005.0   \n",
       "3     Addison, AL        place  16000US0100484      37917.0      38194.0   \n",
       "4       Akron, AL        place  16000US0100676      23036.0      22813.0   \n",
       "5   Alabaster, AL        place  16000US0100820      70397.0      70173.0   \n",
       "\n",
       "   income_2015  income_2016  median_property_value_2013  \\\n",
       "1      25615.0      28148.0                     84600.0   \n",
       "2      42575.0      44833.0                     99400.0   \n",
       "3      37083.0      34063.0                     97000.0   \n",
       "4      21667.0      17344.0                     61700.0   \n",
       "5      71816.0      73325.0                    162700.0   \n",
       "\n",
       "   median_property_value_2014  median_property_value_2015  \\\n",
       "1                     77900.0                     71600.0   \n",
       "2                     91900.0                     95000.0   \n",
       "3                     94800.0                     69300.0   \n",
       "4                     76400.0                     72500.0   \n",
       "5                    164200.0                    165800.0   \n",
       "\n",
       "   median_property_value_2016  \n",
       "1                     77700.0  \n",
       "2                     95300.0  \n",
       "3                     67100.0  \n",
       "4                     63300.0  \n",
       "5                    166300.0  "
      ]
     },
     "execution_count": 21,
     "metadata": {},
     "output_type": "execute_result"
    }
   ],
   "source": [
    "data.dropna(axis=0, how='any', inplace = True)\n",
    "data.head()"
   ]
  },
  {
   "cell_type": "code",
   "execution_count": 22,
   "metadata": {
    "collapsed": true
   },
   "outputs": [],
   "source": [
    "#find the average income in the US - over the past four years\n",
    "sum_income2013 = []\n",
    "for i in data[\"income_2013\"]: \n",
    "    sum_income2013.append(i)\n",
    "a = sum(sum_income2013)/len(sum_income2013)\n",
    "\n",
    "sum_income2014 = []\n",
    "for i in data[\"income_2014\"]: \n",
    "    sum_income2014.append(i)\n",
    "b = sum(sum_income2014)/len(sum_income2014)\n",
    "\n",
    "sum_income2015 = []\n",
    "for i in data[\"income_2015\"]: \n",
    "    sum_income2015.append(i)\n",
    "c = sum(sum_income2015)/len(sum_income2015)\n",
    "\n",
    "sum_income2016 = []\n",
    "for i in data[\"income_2016\"]: \n",
    "    sum_income2016.append(i)\n",
    "d = sum(sum_income2016)/len(sum_income2016)"
   ]
  },
  {
   "cell_type": "code",
   "execution_count": 23,
   "metadata": {
    "collapsed": true
   },
   "outputs": [],
   "source": [
    "sum_median2013 = []\n",
    "for i in data[\"median_property_value_2013\"]:\n",
    "    sum_median2013.append(i)\n",
    "e = sum(sum_median2013)/len(sum_median2013)\n",
    "\n",
    "sum_median2014 = []\n",
    "for i in data[\"median_property_value_2014\"]:\n",
    "    sum_median2014.append(i)\n",
    "f = sum(sum_median2014)/len(sum_median2014)\n",
    "\n",
    "sum_median2015 = []\n",
    "for i in data[\"median_property_value_2015\"]:\n",
    "    sum_median2015.append(i)\n",
    "g = sum(sum_median2015)/len(sum_median2015)\n",
    "\n",
    "sum_median2016 = []\n",
    "for i in data[\"median_property_value_2016\"]:\n",
    "    sum_median2016.append(i)\n",
    "h = sum(sum_median2016)/len(sum_median2016)\n"
   ]
  },
  {
   "cell_type": "code",
   "execution_count": 24,
   "metadata": {
    "collapsed": true
   },
   "outputs": [],
   "source": [
    "#charlottesville medians\n",
    "inc2013 = 44601\n",
    "inc2014 = 47218\n",
    "inc2015 = 49775\n",
    "inc2016 = 50727\n",
    "med2013 = 293000\n",
    "med2014 = 283100\n",
    "med2015 = 285300\n",
    "med2016 = 280100"
   ]
  },
  {
   "cell_type": "code",
   "execution_count": 25,
   "metadata": {
    "slideshow": {
     "slide_type": "subslide"
    }
   },
   "outputs": [
    {
     "name": "stdout",
     "output_type": "stream",
     "text": [
      "   Average Income in US  Median House Prices\n",
      "0          50411.264105        158461.418529\n",
      "1          50907.565747        157849.005164\n",
      "2          51446.061893        162442.785032\n",
      "3          52620.864884        165989.740558\n"
     ]
    }
   ],
   "source": [
    "inf = {'Average Income in US':pd.Series([a, b, c, d]),'Median House Prices':pd.Series([e, f, g, h]) }\n",
    "national_avg = pd.DataFrame(inf)\n",
    "print(national_avg)"
   ]
  },
  {
   "cell_type": "code",
   "execution_count": 13,
   "metadata": {},
   "outputs": [
    {
     "ename": "NameError",
     "evalue": "name 'data' is not defined",
     "output_type": "error",
     "traceback": [
      "\u001b[1;31m---------------------------------------------------------------------------\u001b[0m",
      "\u001b[1;31mNameError\u001b[0m                                 Traceback (most recent call last)",
      "\u001b[1;32m<ipython-input-13-8601a382d8df>\u001b[0m in \u001b[0;36m<module>\u001b[1;34m()\u001b[0m\n\u001b[1;32m----> 1\u001b[1;33m \u001b[0mcols\u001b[0m \u001b[1;33m=\u001b[0m \u001b[0mdata\u001b[0m\u001b[1;33m.\u001b[0m\u001b[0mcolumns\u001b[0m\u001b[1;33m.\u001b[0m\u001b[0mtolist\u001b[0m\u001b[1;33m(\u001b[0m\u001b[1;33m)\u001b[0m\u001b[1;33m\u001b[0m\u001b[0m\n\u001b[0m\u001b[0;32m      2\u001b[0m \u001b[0mcols\u001b[0m \u001b[1;33m=\u001b[0m \u001b[0mcols\u001b[0m\u001b[1;33m[\u001b[0m\u001b[1;36m3\u001b[0m\u001b[1;33m:\u001b[0m\u001b[1;33m]\u001b[0m \u001b[1;33m+\u001b[0m \u001b[0mcols\u001b[0m\u001b[1;33m[\u001b[0m\u001b[1;36m7\u001b[0m\u001b[1;33m:\u001b[0m\u001b[1;33m-\u001b[0m\u001b[1;36m4\u001b[0m\u001b[1;33m]\u001b[0m\u001b[1;33m\u001b[0m\u001b[0m\n\u001b[0;32m      3\u001b[0m \u001b[0mpeach\u001b[0m \u001b[1;33m=\u001b[0m \u001b[1;33m[\u001b[0m\u001b[1;33m]\u001b[0m\u001b[1;33m\u001b[0m\u001b[0m\n\u001b[0;32m      4\u001b[0m \u001b[0mpeach\u001b[0m\u001b[1;33m.\u001b[0m\u001b[0mappend\u001b[0m\u001b[1;33m(\u001b[0m\u001b[0mcols\u001b[0m\u001b[1;33m[\u001b[0m\u001b[1;36m0\u001b[0m\u001b[1;33m]\u001b[0m\u001b[1;33m)\u001b[0m\u001b[1;33m\u001b[0m\u001b[0m\n\u001b[0;32m      5\u001b[0m \u001b[0mpeach\u001b[0m\u001b[1;33m.\u001b[0m\u001b[0mappend\u001b[0m\u001b[1;33m(\u001b[0m\u001b[0mcols\u001b[0m\u001b[1;33m[\u001b[0m\u001b[1;36m4\u001b[0m\u001b[1;33m]\u001b[0m\u001b[1;33m)\u001b[0m\u001b[1;33m\u001b[0m\u001b[0m\n",
      "\u001b[1;31mNameError\u001b[0m: name 'data' is not defined"
     ]
    }
   ],
   "source": [
    "cols = data.columns.tolist()\n",
    "cols = cols[3:] + cols[7:-4]\n",
    "peach = []\n",
    "peach.append(cols[0])\n",
    "peach.append(cols[4])\n",
    "peach.append(cols[1])\n",
    "peach.append(cols[5]) \n",
    "peach.append(cols[2])\n",
    "peach.append(cols[6])\n",
    "peach.append(cols[3])\n",
    "peach.append(cols[7])\n",
    "peach\n",
    "cols = peach\n",
    "data = data[peach]"
   ]
  },
  {
   "cell_type": "code",
   "execution_count": 12,
   "metadata": {
    "slideshow": {
     "slide_type": "slide"
    }
   },
   "outputs": [
    {
     "ename": "NameError",
     "evalue": "name 'data' is not defined",
     "output_type": "error",
     "traceback": [
      "\u001b[1;31m---------------------------------------------------------------------------\u001b[0m",
      "\u001b[1;31mNameError\u001b[0m                                 Traceback (most recent call last)",
      "\u001b[1;32m<ipython-input-12-c069c9991222>\u001b[0m in \u001b[0;36m<module>\u001b[1;34m()\u001b[0m\n\u001b[1;32m----> 1\u001b[1;33m \u001b[0msns\u001b[0m\u001b[1;33m.\u001b[0m\u001b[0mbarplot\u001b[0m\u001b[1;33m(\u001b[0m\u001b[0mdata\u001b[0m \u001b[1;33m=\u001b[0m \u001b[0mdata\u001b[0m\u001b[1;33m)\u001b[0m\u001b[1;33m\u001b[0m\u001b[0m\n\u001b[0m\u001b[0;32m      2\u001b[0m \u001b[0mplt\u001b[0m\u001b[1;33m.\u001b[0m\u001b[0mshow\u001b[0m\u001b[1;33m(\u001b[0m\u001b[1;33m)\u001b[0m\u001b[1;33m\u001b[0m\u001b[0m\n",
      "\u001b[1;31mNameError\u001b[0m: name 'data' is not defined"
     ]
    }
   ],
   "source": [
    "sns.barplot(data = data)\n",
    "plt.show()"
   ]
  },
  {
   "cell_type": "code",
   "execution_count": 39,
   "metadata": {},
   "outputs": [
    {
     "name": "stdout",
     "output_type": "stream",
     "text": [
      "   Median Income  Median Property Value\n",
      "0          44601                 293000\n",
      "1          47218                 283100\n",
      "2          49775                 285300\n",
      "3          50727                 280100\n"
     ]
    }
   ],
   "source": [
    "inin = {'Median Income':pd.Series([inc2013, inc2014, inc2015, inc2016]),\n",
    "        'Median Property Value':pd.Series([med2013, med2014, med2015, med2016])}\n",
    "charlottesvilleavg = pd.DataFrame(inin)\n",
    "print(charlottesvilleavg)"
   ]
  },
  {
   "cell_type": "code",
   "execution_count": 40,
   "metadata": {},
   "outputs": [
    {
     "data": {
      "image/png": "[encoded data removed]",
      "text/plain": [
       "<matplotlib.figure.Figure at 0x16057688b00>"
      ]
     },
     "metadata": {},
     "output_type": "display_data"
    }
   ],
   "source": [
    "sns.barplot(data = charlottesvilleavg)\n",
    "plt.show()"
   ]
  },
  {
   "cell_type": "code",
   "execution_count": 35,
   "metadata": {
    "collapsed": true
   },
   "outputs": [],
   "source": [
    "import folium"
   ]
  },
  {
   "cell_type": "code",
   "execution_count": 36,
   "metadata": {
    "collapsed": true
   },
   "outputs": [],
   "source": [
    "folium_map = folium.Map(location=[38.0293, -78.4767],\n",
    "                        zoom_start=13,\n",
    "                        tiles=\"CartoDB dark_matter\")"
   ]
  },
  {
   "cell_type": "code",
   "execution_count": 23,
   "metadata": {
    "scrolled": true
   },
   "outputs": [
    {
     "data": {
      "text/html": [
       "<div style=\"width:100%;\"><div style=\"position:relative;width:100%;height:0;padding-bottom:60%;\"><iframe src=\"data:text/html;charset=utf-8;base64,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\" style=\"position:absolute;width:100%;height:100%;left:0;top:0;border:none !important;\" allowfullscreen webkitallowfullscreen mozallowfullscreen></iframe></div></div>"
      ],
      "text/plain": [
       "<folium.folium.Map at 0x237f2a339e8>"
      ]
     },
     "execution_count": 23,
     "metadata": {},
     "output_type": "execute_result"
    }
   ],
   "source": [
    "folium_map"
   ]
  },
  {
   "cell_type": "code",
   "execution_count": 24,
   "metadata": {},
   "outputs": [
    {
     "data": {
      "text/html": [
       "<div>\n",
       "<style>\n",
       "    .dataframe thead tr:only-child th {\n",
       "        text-align: right;\n",
       "    }\n",
       "\n",
       "    .dataframe thead th {\n",
       "        text-align: left;\n",
       "    }\n",
       "\n",
       "    .dataframe tbody tr th {\n",
       "        vertical-align: top;\n",
       "    }\n",
       "</style>\n",
       "<table border=\"1\" class=\"dataframe\">\n",
       "  <thead>\n",
       "    <tr style=\"text-align: right;\">\n",
       "      <th></th>\n",
       "      <th>RecordID_Int</th>\n",
       "      <th>ParcelNumber</th>\n",
       "      <th>Address</th>\n",
       "      <th>StreetNumber</th>\n",
       "      <th>StreetName</th>\n",
       "      <th>Unit</th>\n",
       "      <th>StateCode</th>\n",
       "      <th>TaxType</th>\n",
       "      <th>Zone</th>\n",
       "      <th>TaxDist</th>\n",
       "      <th>Legal</th>\n",
       "      <th>Acreage</th>\n",
       "      <th>GPIN</th>\n",
       "    </tr>\n",
       "  </thead>\n",
       "  <tbody>\n",
       "    <tr>\n",
       "      <th>0</th>\n",
       "      <td>1</td>\n",
       "      <td>010001000</td>\n",
       "      <td>1117 EMMET ST N</td>\n",
       "      <td>1117</td>\n",
       "      <td>EMMET ST N</td>\n",
       "      <td>NaN</td>\n",
       "      <td>4.0 Commercial &amp; Industrial</td>\n",
       "      <td>Taxable</td>\n",
       "      <td>URB</td>\n",
       "      <td>NaN</td>\n",
       "      <td>39.832 ACRES BARRACKS ROAD    SHOPPING CENTER</td>\n",
       "      <td>39.830</td>\n",
       "      <td>1326</td>\n",
       "    </tr>\n",
       "    <tr>\n",
       "      <th>1</th>\n",
       "      <td>2</td>\n",
       "      <td>010001100</td>\n",
       "      <td>1035-67 MILLMONT ST</td>\n",
       "      <td>1035-67</td>\n",
       "      <td>MILLMONT ST</td>\n",
       "      <td>NaN</td>\n",
       "      <td>4.0 Commercial &amp; Industrial</td>\n",
       "      <td>Taxable</td>\n",
       "      <td>URB</td>\n",
       "      <td>NaN</td>\n",
       "      <td>PARCEL W WEST BAR</td>\n",
       "      <td>2.140</td>\n",
       "      <td>15071</td>\n",
       "    </tr>\n",
       "    <tr>\n",
       "      <th>2</th>\n",
       "      <td>3</td>\n",
       "      <td>010001200</td>\n",
       "      <td>1159 MILLMONT ST</td>\n",
       "      <td>1159</td>\n",
       "      <td>MILLMONT ST</td>\n",
       "      <td>NaN</td>\n",
       "      <td>4.0 Commercial &amp; Industrial</td>\n",
       "      <td>Taxable</td>\n",
       "      <td>URB</td>\n",
       "      <td>NaN</td>\n",
       "      <td>LOT C-1 WEST BAR</td>\n",
       "      <td>0.580</td>\n",
       "      <td>1280</td>\n",
       "    </tr>\n",
       "    <tr>\n",
       "      <th>3</th>\n",
       "      <td>4</td>\n",
       "      <td>010001300</td>\n",
       "      <td>1135-37 MILLMONT ST</td>\n",
       "      <td>1135-37</td>\n",
       "      <td>MILLMONT ST</td>\n",
       "      <td>NaN</td>\n",
       "      <td>4.0 Commercial &amp; Industrial</td>\n",
       "      <td>Taxable</td>\n",
       "      <td>URB</td>\n",
       "      <td>NaN</td>\n",
       "      <td>LOT C-2B WEST BAR</td>\n",
       "      <td>0.400</td>\n",
       "      <td>1357</td>\n",
       "    </tr>\n",
       "    <tr>\n",
       "      <th>4</th>\n",
       "      <td>5</td>\n",
       "      <td>010001400</td>\n",
       "      <td>1111 MILLMONT ST</td>\n",
       "      <td>1111</td>\n",
       "      <td>MILLMONT ST</td>\n",
       "      <td>NaN</td>\n",
       "      <td>4.0 Commercial &amp; Industrial</td>\n",
       "      <td>Taxable</td>\n",
       "      <td>URB</td>\n",
       "      <td>NaN</td>\n",
       "      <td>LOT B-1 WEST BAR</td>\n",
       "      <td>3.287</td>\n",
       "      <td>1366</td>\n",
       "    </tr>\n",
       "  </tbody>\n",
       "</table>\n",
       "</div>"
      ],
      "text/plain": [
       "   RecordID_Int ParcelNumber               Address StreetNumber   StreetName  \\\n",
       "0             1    010001000      1117 EMMET ST N          1117   EMMET ST N   \n",
       "1             2    010001100  1035-67 MILLMONT ST       1035-67  MILLMONT ST   \n",
       "2             3    010001200     1159 MILLMONT ST          1159  MILLMONT ST   \n",
       "3             4    010001300  1135-37 MILLMONT ST       1135-37  MILLMONT ST   \n",
       "4             5    010001400     1111 MILLMONT ST          1111  MILLMONT ST   \n",
       "\n",
       "  Unit                    StateCode  TaxType Zone  TaxDist  \\\n",
       "0  NaN  4.0 Commercial & Industrial  Taxable  URB      NaN   \n",
       "1  NaN  4.0 Commercial & Industrial  Taxable  URB      NaN   \n",
       "2  NaN  4.0 Commercial & Industrial  Taxable  URB      NaN   \n",
       "3  NaN  4.0 Commercial & Industrial  Taxable  URB      NaN   \n",
       "4  NaN  4.0 Commercial & Industrial  Taxable  URB      NaN   \n",
       "\n",
       "                                           Legal  Acreage   GPIN  \n",
       "0  39.832 ACRES BARRACKS ROAD    SHOPPING CENTER   39.830   1326  \n",
       "1                              PARCEL W WEST BAR    2.140  15071  \n",
       "2                               LOT C-1 WEST BAR    0.580   1280  \n",
       "3                              LOT C-2B WEST BAR    0.400   1357  \n",
       "4                               LOT B-1 WEST BAR    3.287   1366  "
      ]
     },
     "execution_count": 24,
     "metadata": {},
     "output_type": "execute_result"
    }
   ],
   "source": [
    "base = pd.read_csv(\"Real_Estate_Base_Active.csv\")\n",
    "base.head()"
   ]
  },
  {
   "cell_type": "code",
   "execution_count": 45,
   "metadata": {
    "collapsed": true
   },
   "outputs": [],
   "source": [
    "import geocoder"
   ]
  },
  {
   "cell_type": "code",
   "execution_count": null,
   "metadata": {
    "collapsed": true
   },
   "outputs": [],
   "source": [
    "for i in base[\"Address\"]: \n",
    "    i = i + \", Charlottesville, VA\" \n",
    "    g = geocoder.google(i)\n",
    "    if g.latlng is not None: \n",
    "        lng = g.latlng[0]\n",
    "        lat = g.latlng[1]\n",
    "        folium.Marker([lng, lat]).add_to(folium_map)"
   ]
  },
  {
   "cell_type": "code",
   "execution_count": null,
   "metadata": {
    "collapsed": true
   },
   "outputs": [],
   "source": []
  }
 ],
 "metadata": {
  "kernelspec": {
   "display_name": "Python 3",
   "language": "python",
   "name": "python3"
  },
  "language_info": {
   "codemirror_mode": {
    "name": "ipython",
    "version": 3
   },
   "file_extension": ".py",
   "mimetype": "text/x-python",
   "name": "python",
   "nbconvert_exporter": "python",
   "pygments_lexer": "ipython3",
   "version": "3.6.1"
  }
 },
 "nbformat": 4,
 "nbformat_minor": 2
}
