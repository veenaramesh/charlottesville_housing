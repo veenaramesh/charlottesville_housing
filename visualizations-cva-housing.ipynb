{
  "nbformat": 4,
  "nbformat_minor": 0,
  "metadata": {
    "kernelspec": {
      "display_name": "Python 3",
      "language": "python",
      "name": "python3"
    },
    "language_info": {
      "codemirror_mode": {
        "name": "ipython",
        "version": 3
      },
      "file_extension": ".py",
      "mimetype": "text/x-python",
      "name": "python",
      "nbconvert_exporter": "python",
      "pygments_lexer": "ipython3",
      "version": "3.6.5"
    },
    "colab": {
      "name": "visualizations-cva-housing.ipynb",
      "provenance": []
    }
  },
  "cells": [
    {
      "cell_type": "markdown",
      "metadata": {
        "id": "OeZ5mu3RNjhu",
        "colab_type": "text"
      },
      "source": [
        "# Analysis of Housing Data in Charlottesville, Virginia\n",
        "## STEP ONE: Importing necessary libraries\n",
        "The goal is to understand the housing issues occurring in Charlottesville currently. "
      ]
    },
    {
      "cell_type": "code",
      "metadata": {
        "id": "xWmFYSbONjhx",
        "colab_type": "code",
        "colab": {}
      },
      "source": [
        "import numpy as np\n",
        "import pandas as pd\n",
        "import seaborn as sns\n",
        "\n",
        "%matplotlib inline"
      ],
      "execution_count": 0,
      "outputs": []
    },
    {
      "cell_type": "code",
      "metadata": {
        "id": "B5inkeHcRSW9",
        "colab_type": "code",
        "colab": {
          "base_uri": "https://localhost:8080/",
          "height": 121
        },
        "outputId": "d11ffe57-7b17-4fa6-b058-707b090d1c82"
      },
      "source": [
        "!git clone https://github.com/veenaramesh/charlottesville_housing.git\n",
        " "
      ],
      "execution_count": 3,
      "outputs": [
        {
          "output_type": "stream",
          "text": [
            "Cloning into 'charlottesville_housing'...\n",
            "remote: Enumerating objects: 25, done.\u001b[K\n",
            "remote: Counting objects: 100% (25/25), done.\u001b[K\n",
            "remote: Compressing objects: 100% (24/24), done.\u001b[K\n",
            "remote: Total 39 (delta 10), reused 7 (delta 1), pack-reused 14\u001b[K\n",
            "Unpacking objects: 100% (39/39), done.\n"
          ],
          "name": "stdout"
        }
      ]
    },
    {
      "cell_type": "markdown",
      "metadata": {
        "id": "PmY6DERBNjh1",
        "colab_type": "text"
      },
      "source": [
        "## STEP TWO: Get the data"
      ]
    },
    {
      "cell_type": "code",
      "metadata": {
        "id": "pah8ttk8Njh1",
        "colab_type": "code",
        "colab": {}
      },
      "source": [
        "reba = pd.read_csv(\"charlottesville_housing/data/Real_Estate_Base_Active.csv\")\n",
        "usa = pd.read_csv(\"charlottesville_housing/data/Data USA Cart.csv\")\n",
        "\n",
        "dateparse = lambda dates: pd.datetime.strptime(dates, \"%Y-%m-%dT%H:%M:%S.%fZ\")\n",
        "res = pd.read_csv(\"charlottesville_housing/data/Real_Estate_Sales.csv\", parse_dates=['SaleDate'], index_col = [\"SaleDate\"], date_parser=dateparse)"
      ],
      "execution_count": 0,
      "outputs": []
    },
    {
      "cell_type": "code",
      "metadata": {
        "id": "FAOEaap6Njh4",
        "colab_type": "code",
        "colab": {},
        "outputId": "158549a5-76ee-491c-f46a-5f4a54ab52d3"
      },
      "source": [
        "reba.head()"
      ],
      "execution_count": 0,
      "outputs": [
        {
          "output_type": "execute_result",
          "data": {
            "text/html": [
              "<div>\n",
              "<style scoped>\n",
              "    .dataframe tbody tr th:only-of-type {\n",
              "        vertical-align: middle;\n",
              "    }\n",
              "\n",
              "    .dataframe tbody tr th {\n",
              "        vertical-align: top;\n",
              "    }\n",
              "\n",
              "    .dataframe thead th {\n",
              "        text-align: right;\n",
              "    }\n",
              "</style>\n",
              "<table border=\"1\" class=\"dataframe\">\n",
              "  <thead>\n",
              "    <tr style=\"text-align: right;\">\n",
              "      <th></th>\n",
              "      <th>RecordID_Int</th>\n",
              "      <th>ParcelNumber</th>\n",
              "      <th>Address</th>\n",
              "      <th>StreetNumber</th>\n",
              "      <th>StreetName</th>\n",
              "      <th>Unit</th>\n",
              "      <th>StateCode</th>\n",
              "      <th>TaxType</th>\n",
              "      <th>Zone</th>\n",
              "      <th>TaxDist</th>\n",
              "      <th>Legal</th>\n",
              "      <th>Acreage</th>\n",
              "      <th>GPIN</th>\n",
              "    </tr>\n",
              "  </thead>\n",
              "  <tbody>\n",
              "    <tr>\n",
              "      <th>0</th>\n",
              "      <td>1</td>\n",
              "      <td>010001000</td>\n",
              "      <td>1117 EMMET ST N</td>\n",
              "      <td>1117</td>\n",
              "      <td>EMMET ST N</td>\n",
              "      <td>NaN</td>\n",
              "      <td>4.0 Commercial &amp; Industrial</td>\n",
              "      <td>Taxable</td>\n",
              "      <td>URB</td>\n",
              "      <td>NaN</td>\n",
              "      <td>39.832 ACRES BARRACKS ROAD    SHOPPING CENTER</td>\n",
              "      <td>39.830</td>\n",
              "      <td>1326</td>\n",
              "    </tr>\n",
              "    <tr>\n",
              "      <th>1</th>\n",
              "      <td>2</td>\n",
              "      <td>010001100</td>\n",
              "      <td>1035-67 MILLMONT ST</td>\n",
              "      <td>1035-67</td>\n",
              "      <td>MILLMONT ST</td>\n",
              "      <td>NaN</td>\n",
              "      <td>4.0 Commercial &amp; Industrial</td>\n",
              "      <td>Taxable</td>\n",
              "      <td>URB</td>\n",
              "      <td>NaN</td>\n",
              "      <td>PARCEL W WEST BAR</td>\n",
              "      <td>2.140</td>\n",
              "      <td>15071</td>\n",
              "    </tr>\n",
              "    <tr>\n",
              "      <th>2</th>\n",
              "      <td>3</td>\n",
              "      <td>010001200</td>\n",
              "      <td>1159 MILLMONT ST</td>\n",
              "      <td>1159</td>\n",
              "      <td>MILLMONT ST</td>\n",
              "      <td>NaN</td>\n",
              "      <td>4.0 Commercial &amp; Industrial</td>\n",
              "      <td>Taxable</td>\n",
              "      <td>URB</td>\n",
              "      <td>NaN</td>\n",
              "      <td>LOT C-1 WEST BAR</td>\n",
              "      <td>0.580</td>\n",
              "      <td>1280</td>\n",
              "    </tr>\n",
              "    <tr>\n",
              "      <th>3</th>\n",
              "      <td>4</td>\n",
              "      <td>010001300</td>\n",
              "      <td>1135-37 MILLMONT ST</td>\n",
              "      <td>1135-37</td>\n",
              "      <td>MILLMONT ST</td>\n",
              "      <td>NaN</td>\n",
              "      <td>4.0 Commercial &amp; Industrial</td>\n",
              "      <td>Taxable</td>\n",
              "      <td>URB</td>\n",
              "      <td>NaN</td>\n",
              "      <td>LOT C-2B WEST BAR</td>\n",
              "      <td>0.400</td>\n",
              "      <td>1357</td>\n",
              "    </tr>\n",
              "    <tr>\n",
              "      <th>4</th>\n",
              "      <td>5</td>\n",
              "      <td>010001400</td>\n",
              "      <td>1111 MILLMONT ST</td>\n",
              "      <td>1111</td>\n",
              "      <td>MILLMONT ST</td>\n",
              "      <td>NaN</td>\n",
              "      <td>4.0 Commercial &amp; Industrial</td>\n",
              "      <td>Taxable</td>\n",
              "      <td>URB</td>\n",
              "      <td>NaN</td>\n",
              "      <td>LOT B-1 WEST BAR</td>\n",
              "      <td>3.287</td>\n",
              "      <td>1366</td>\n",
              "    </tr>\n",
              "  </tbody>\n",
              "</table>\n",
              "</div>"
            ],
            "text/plain": [
              "   RecordID_Int ParcelNumber               Address StreetNumber   StreetName  \\\n",
              "0             1    010001000      1117 EMMET ST N          1117   EMMET ST N   \n",
              "1             2    010001100  1035-67 MILLMONT ST       1035-67  MILLMONT ST   \n",
              "2             3    010001200     1159 MILLMONT ST          1159  MILLMONT ST   \n",
              "3             4    010001300  1135-37 MILLMONT ST       1135-37  MILLMONT ST   \n",
              "4             5    010001400     1111 MILLMONT ST          1111  MILLMONT ST   \n",
              "\n",
              "  Unit                    StateCode  TaxType Zone  TaxDist  \\\n",
              "0  NaN  4.0 Commercial & Industrial  Taxable  URB      NaN   \n",
              "1  NaN  4.0 Commercial & Industrial  Taxable  URB      NaN   \n",
              "2  NaN  4.0 Commercial & Industrial  Taxable  URB      NaN   \n",
              "3  NaN  4.0 Commercial & Industrial  Taxable  URB      NaN   \n",
              "4  NaN  4.0 Commercial & Industrial  Taxable  URB      NaN   \n",
              "\n",
              "                                           Legal  Acreage   GPIN  \n",
              "0  39.832 ACRES BARRACKS ROAD    SHOPPING CENTER   39.830   1326  \n",
              "1                              PARCEL W WEST BAR    2.140  15071  \n",
              "2                               LOT C-1 WEST BAR    0.580   1280  \n",
              "3                              LOT C-2B WEST BAR    0.400   1357  \n",
              "4                               LOT B-1 WEST BAR    3.287   1366  "
            ]
          },
          "metadata": {
            "tags": []
          },
          "execution_count": 9
        }
      ]
    },
    {
      "cell_type": "code",
      "metadata": {
        "id": "WF2r_U6cNjh7",
        "colab_type": "code",
        "colab": {},
        "outputId": "d9ccdeaf-87aa-441f-f0e2-9d38838f4997"
      },
      "source": [
        "res.info()"
      ],
      "execution_count": 0,
      "outputs": [
        {
          "output_type": "stream",
          "text": [
            "<class 'pandas.core.frame.DataFrame'>\n",
            "RangeIndex: 15546 entries, 0 to 15545\n",
            "Data columns (total 13 columns):\n",
            "RecordID_Int    15546 non-null int64\n",
            "ParcelNumber    15546 non-null object\n",
            "Address         15546 non-null object\n",
            "StreetNumber    15499 non-null object\n",
            "StreetName      15546 non-null object\n",
            "Unit            1718 non-null object\n",
            "StateCode       15546 non-null object\n",
            "TaxType         15546 non-null object\n",
            "Zone            15544 non-null object\n",
            "TaxDist         401 non-null float64\n",
            "Legal           15539 non-null object\n",
            "Acreage         15544 non-null float64\n",
            "GPIN            15546 non-null int64\n",
            "dtypes: float64(2), int64(2), object(9)\n",
            "memory usage: 1.5+ MB\n"
          ],
          "name": "stdout"
        }
      ]
    },
    {
      "cell_type": "code",
      "metadata": {
        "id": "G2UA1IurNjiD",
        "colab_type": "code",
        "colab": {},
        "outputId": "d88138e1-cfea-45ad-a712-87e4eba01a7e"
      },
      "source": [
        "res.head()"
      ],
      "execution_count": 0,
      "outputs": [
        {
          "output_type": "execute_result",
          "data": {
            "text/html": [
              "<div>\n",
              "<style scoped>\n",
              "    .dataframe tbody tr th:only-of-type {\n",
              "        vertical-align: middle;\n",
              "    }\n",
              "\n",
              "    .dataframe tbody tr th {\n",
              "        vertical-align: top;\n",
              "    }\n",
              "\n",
              "    .dataframe thead th {\n",
              "        text-align: right;\n",
              "    }\n",
              "</style>\n",
              "<table border=\"1\" class=\"dataframe\">\n",
              "  <thead>\n",
              "    <tr style=\"text-align: right;\">\n",
              "      <th></th>\n",
              "      <th>RecordID_Int</th>\n",
              "      <th>ParcelNumber</th>\n",
              "      <th>SaleAmount</th>\n",
              "      <th>BookPage</th>\n",
              "    </tr>\n",
              "    <tr>\n",
              "      <th>SaleDate</th>\n",
              "      <th></th>\n",
              "      <th></th>\n",
              "      <th></th>\n",
              "      <th></th>\n",
              "    </tr>\n",
              "  </thead>\n",
              "  <tbody>\n",
              "    <tr>\n",
              "      <th>1961-10-02</th>\n",
              "      <td>1001</td>\n",
              "      <td>030137000</td>\n",
              "      <td>18000</td>\n",
              "      <td>228:297</td>\n",
              "    </tr>\n",
              "    <tr>\n",
              "      <th>2009-08-27</th>\n",
              "      <td>1002</td>\n",
              "      <td>030138000</td>\n",
              "      <td>0</td>\n",
              "      <td>2009:3843</td>\n",
              "    </tr>\n",
              "    <tr>\n",
              "      <th>1961-10-02</th>\n",
              "      <td>1003</td>\n",
              "      <td>030138000</td>\n",
              "      <td>18000</td>\n",
              "      <td>228:297</td>\n",
              "    </tr>\n",
              "    <tr>\n",
              "      <th>1978-05-26</th>\n",
              "      <td>1004</td>\n",
              "      <td>030139000</td>\n",
              "      <td>120000</td>\n",
              "      <td>392:685</td>\n",
              "    </tr>\n",
              "    <tr>\n",
              "      <th>1998-02-11</th>\n",
              "      <td>1005</td>\n",
              "      <td>030139000</td>\n",
              "      <td>915000</td>\n",
              "      <td>712:342</td>\n",
              "    </tr>\n",
              "  </tbody>\n",
              "</table>\n",
              "</div>"
            ],
            "text/plain": [
              "            RecordID_Int ParcelNumber  SaleAmount   BookPage\n",
              "SaleDate                                                    \n",
              "1961-10-02          1001    030137000       18000    228:297\n",
              "2009-08-27          1002    030138000           0  2009:3843\n",
              "1961-10-02          1003    030138000       18000    228:297\n",
              "1978-05-26          1004    030139000      120000    392:685\n",
              "1998-02-11          1005    030139000      915000    712:342"
            ]
          },
          "metadata": {
            "tags": []
          },
          "execution_count": 12
        }
      ]
    },
    {
      "cell_type": "code",
      "metadata": {
        "id": "-H7PqMxcNjiF",
        "colab_type": "code",
        "colab": {},
        "outputId": "de83d556-b57e-4171-ba06-47e88a5788f6"
      },
      "source": [
        "res.info()"
      ],
      "execution_count": 0,
      "outputs": [
        {
          "output_type": "stream",
          "text": [
            "<class 'pandas.core.frame.DataFrame'>\n",
            "DatetimeIndex: 51941 entries, 1961-10-02 to 2017-03-07\n",
            "Data columns (total 4 columns):\n",
            "RecordID_Int    51941 non-null int64\n",
            "ParcelNumber    51941 non-null object\n",
            "SaleAmount      51941 non-null int64\n",
            "BookPage        51938 non-null object\n",
            "dtypes: int64(2), object(2)\n",
            "memory usage: 2.0+ MB\n"
          ],
          "name": "stdout"
        }
      ]
    },
    {
      "cell_type": "code",
      "metadata": {
        "id": "dKEKN-1ONjiI",
        "colab_type": "code",
        "colab": {},
        "outputId": "f95aecc4-e7c1-4013-bdbf-615958f8ee4e"
      },
      "source": [
        "usa.head()"
      ],
      "execution_count": 0,
      "outputs": [
        {
          "output_type": "execute_result",
          "data": {
            "text/html": [
              "<div>\n",
              "<style scoped>\n",
              "    .dataframe tbody tr th:only-of-type {\n",
              "        vertical-align: middle;\n",
              "    }\n",
              "\n",
              "    .dataframe tbody tr th {\n",
              "        vertical-align: top;\n",
              "    }\n",
              "\n",
              "    .dataframe thead th {\n",
              "        text-align: right;\n",
              "    }\n",
              "</style>\n",
              "<table border=\"1\" class=\"dataframe\">\n",
              "  <thead>\n",
              "    <tr style=\"text-align: right;\">\n",
              "      <th></th>\n",
              "      <th>geo_name</th>\n",
              "      <th>geo_sumlevel</th>\n",
              "      <th>geo_id</th>\n",
              "      <th>income_2013</th>\n",
              "      <th>income_2014</th>\n",
              "      <th>income_2015</th>\n",
              "      <th>income_2016</th>\n",
              "      <th>median_property_value_2013</th>\n",
              "      <th>median_property_value_2014</th>\n",
              "      <th>median_property_value_2015</th>\n",
              "      <th>median_property_value_2016</th>\n",
              "    </tr>\n",
              "  </thead>\n",
              "  <tbody>\n",
              "    <tr>\n",
              "      <th>0</th>\n",
              "      <td>Abanda, AL</td>\n",
              "      <td>place</td>\n",
              "      <td>16000US0100100</td>\n",
              "      <td>NaN</td>\n",
              "      <td>NaN</td>\n",
              "      <td>11207.0</td>\n",
              "      <td>NaN</td>\n",
              "      <td>NaN</td>\n",
              "      <td>NaN</td>\n",
              "      <td>NaN</td>\n",
              "      <td>NaN</td>\n",
              "    </tr>\n",
              "    <tr>\n",
              "      <th>1</th>\n",
              "      <td>Abbeville, AL</td>\n",
              "      <td>place</td>\n",
              "      <td>16000US0100124</td>\n",
              "      <td>26500.0</td>\n",
              "      <td>27989.0</td>\n",
              "      <td>25615.0</td>\n",
              "      <td>28148.0</td>\n",
              "      <td>84600.0</td>\n",
              "      <td>77900.0</td>\n",
              "      <td>71600.0</td>\n",
              "      <td>77700.0</td>\n",
              "    </tr>\n",
              "    <tr>\n",
              "      <th>2</th>\n",
              "      <td>Adamsville, AL</td>\n",
              "      <td>place</td>\n",
              "      <td>16000US0100460</td>\n",
              "      <td>45488.0</td>\n",
              "      <td>46005.0</td>\n",
              "      <td>42575.0</td>\n",
              "      <td>44833.0</td>\n",
              "      <td>99400.0</td>\n",
              "      <td>91900.0</td>\n",
              "      <td>95000.0</td>\n",
              "      <td>95300.0</td>\n",
              "    </tr>\n",
              "    <tr>\n",
              "      <th>3</th>\n",
              "      <td>Addison, AL</td>\n",
              "      <td>place</td>\n",
              "      <td>16000US0100484</td>\n",
              "      <td>37917.0</td>\n",
              "      <td>38194.0</td>\n",
              "      <td>37083.0</td>\n",
              "      <td>34063.0</td>\n",
              "      <td>97000.0</td>\n",
              "      <td>94800.0</td>\n",
              "      <td>69300.0</td>\n",
              "      <td>67100.0</td>\n",
              "    </tr>\n",
              "    <tr>\n",
              "      <th>4</th>\n",
              "      <td>Akron, AL</td>\n",
              "      <td>place</td>\n",
              "      <td>16000US0100676</td>\n",
              "      <td>23036.0</td>\n",
              "      <td>22813.0</td>\n",
              "      <td>21667.0</td>\n",
              "      <td>17344.0</td>\n",
              "      <td>61700.0</td>\n",
              "      <td>76400.0</td>\n",
              "      <td>72500.0</td>\n",
              "      <td>63300.0</td>\n",
              "    </tr>\n",
              "  </tbody>\n",
              "</table>\n",
              "</div>"
            ],
            "text/plain": [
              "         geo_name geo_sumlevel          geo_id  income_2013  income_2014  \\\n",
              "0      Abanda, AL        place  16000US0100100          NaN          NaN   \n",
              "1   Abbeville, AL        place  16000US0100124      26500.0      27989.0   \n",
              "2  Adamsville, AL        place  16000US0100460      45488.0      46005.0   \n",
              "3     Addison, AL        place  16000US0100484      37917.0      38194.0   \n",
              "4       Akron, AL        place  16000US0100676      23036.0      22813.0   \n",
              "\n",
              "   income_2015  income_2016  median_property_value_2013  \\\n",
              "0      11207.0          NaN                         NaN   \n",
              "1      25615.0      28148.0                     84600.0   \n",
              "2      42575.0      44833.0                     99400.0   \n",
              "3      37083.0      34063.0                     97000.0   \n",
              "4      21667.0      17344.0                     61700.0   \n",
              "\n",
              "   median_property_value_2014  median_property_value_2015  \\\n",
              "0                         NaN                         NaN   \n",
              "1                     77900.0                     71600.0   \n",
              "2                     91900.0                     95000.0   \n",
              "3                     94800.0                     69300.0   \n",
              "4                     76400.0                     72500.0   \n",
              "\n",
              "   median_property_value_2016  \n",
              "0                         NaN  \n",
              "1                     77700.0  \n",
              "2                     95300.0  \n",
              "3                     67100.0  \n",
              "4                     63300.0  "
            ]
          },
          "metadata": {
            "tags": []
          },
          "execution_count": 7
        }
      ]
    },
    {
      "cell_type": "code",
      "metadata": {
        "id": "AgWuOChuNjiL",
        "colab_type": "code",
        "colab": {},
        "outputId": "1c4cae74-a3da-4f32-9e83-b2b0c59021ed"
      },
      "source": [
        "usa.info()"
      ],
      "execution_count": 0,
      "outputs": [
        {
          "output_type": "stream",
          "text": [
            "<class 'pandas.core.frame.DataFrame'>\n",
            "RangeIndex: 29616 entries, 0 to 29615\n",
            "Data columns (total 11 columns):\n",
            "geo_name                      29607 non-null object\n",
            "geo_sumlevel                  29607 non-null object\n",
            "geo_id                        29616 non-null object\n",
            "income_2013                   28670 non-null float64\n",
            "income_2014                   28764 non-null float64\n",
            "income_2015                   27663 non-null float64\n",
            "income_2016                   27680 non-null float64\n",
            "median_property_value_2013    28293 non-null float64\n",
            "median_property_value_2014    28397 non-null float64\n",
            "median_property_value_2015    27521 non-null float64\n",
            "median_property_value_2016    27502 non-null float64\n",
            "dtypes: float64(8), object(3)\n",
            "memory usage: 2.5+ MB\n"
          ],
          "name": "stdout"
        }
      ]
    },
    {
      "cell_type": "code",
      "metadata": {
        "id": "XmPqIFc3NjiO",
        "colab_type": "code",
        "colab": {
          "base_uri": "https://localhost:8080/",
          "height": 156
        },
        "outputId": "84dbd6bc-1000-4940-8c2a-74aafcc4e40d"
      },
      "source": [
        "# drop all nan values; using an Imputer is not helpful\n",
        "res.replace(0, np.nan, inplace = True)\n",
        "res.dropna(axis=0, how='any', inplace = True)\n",
        "res.index"
      ],
      "execution_count": 9,
      "outputs": [
        {
          "output_type": "execute_result",
          "data": {
            "text/plain": [
              "DatetimeIndex(['1961-10-02', '1961-10-02', '1978-05-26', '1998-02-11',\n",
              "               '1998-02-11', '1978-05-26', '2001-08-02', '1979-09-06',\n",
              "               '2006-06-06', '1966-06-03',\n",
              "               ...\n",
              "               '1999-08-02', '2009-12-14', '2010-03-29', '1999-12-30',\n",
              "               '1999-02-18', '2001-07-20', '2003-03-03', '1999-10-21',\n",
              "               '1999-02-18', '2017-03-07'],\n",
              "              dtype='datetime64[ns]', name='SaleDate', length=33583, freq=None)"
            ]
          },
          "metadata": {
            "tags": []
          },
          "execution_count": 9
        }
      ]
    },
    {
      "cell_type": "code",
      "metadata": {
        "id": "R0VcLbY_NjiT",
        "colab_type": "code",
        "colab": {
          "base_uri": "https://localhost:8080/",
          "height": 233
        },
        "outputId": "b9116539-e000-4aa5-d167-366e156f3a38"
      },
      "source": [
        "res[\"year\"] = res.index.year\n",
        "res[\"month\"] = res.index.month\n",
        "res.head()"
      ],
      "execution_count": 10,
      "outputs": [
        {
          "output_type": "execute_result",
          "data": {
            "text/html": [
              "<div>\n",
              "<style scoped>\n",
              "    .dataframe tbody tr th:only-of-type {\n",
              "        vertical-align: middle;\n",
              "    }\n",
              "\n",
              "    .dataframe tbody tr th {\n",
              "        vertical-align: top;\n",
              "    }\n",
              "\n",
              "    .dataframe thead th {\n",
              "        text-align: right;\n",
              "    }\n",
              "</style>\n",
              "<table border=\"1\" class=\"dataframe\">\n",
              "  <thead>\n",
              "    <tr style=\"text-align: right;\">\n",
              "      <th></th>\n",
              "      <th>RecordID_Int</th>\n",
              "      <th>ParcelNumber</th>\n",
              "      <th>SaleAmount</th>\n",
              "      <th>BookPage</th>\n",
              "      <th>year</th>\n",
              "      <th>month</th>\n",
              "    </tr>\n",
              "    <tr>\n",
              "      <th>SaleDate</th>\n",
              "      <th></th>\n",
              "      <th></th>\n",
              "      <th></th>\n",
              "      <th></th>\n",
              "      <th></th>\n",
              "      <th></th>\n",
              "    </tr>\n",
              "  </thead>\n",
              "  <tbody>\n",
              "    <tr>\n",
              "      <th>1961-10-02</th>\n",
              "      <td>1001</td>\n",
              "      <td>030137000</td>\n",
              "      <td>18000.0</td>\n",
              "      <td>228:297</td>\n",
              "      <td>1961</td>\n",
              "      <td>10</td>\n",
              "    </tr>\n",
              "    <tr>\n",
              "      <th>1961-10-02</th>\n",
              "      <td>1003</td>\n",
              "      <td>030138000</td>\n",
              "      <td>18000.0</td>\n",
              "      <td>228:297</td>\n",
              "      <td>1961</td>\n",
              "      <td>10</td>\n",
              "    </tr>\n",
              "    <tr>\n",
              "      <th>1978-05-26</th>\n",
              "      <td>1004</td>\n",
              "      <td>030139000</td>\n",
              "      <td>120000.0</td>\n",
              "      <td>392:685</td>\n",
              "      <td>1978</td>\n",
              "      <td>5</td>\n",
              "    </tr>\n",
              "    <tr>\n",
              "      <th>1998-02-11</th>\n",
              "      <td>1005</td>\n",
              "      <td>030139000</td>\n",
              "      <td>915000.0</td>\n",
              "      <td>712:342</td>\n",
              "      <td>1998</td>\n",
              "      <td>2</td>\n",
              "    </tr>\n",
              "    <tr>\n",
              "      <th>1998-02-11</th>\n",
              "      <td>1006</td>\n",
              "      <td>030139100</td>\n",
              "      <td>915000.0</td>\n",
              "      <td>712:342</td>\n",
              "      <td>1998</td>\n",
              "      <td>2</td>\n",
              "    </tr>\n",
              "  </tbody>\n",
              "</table>\n",
              "</div>"
            ],
            "text/plain": [
              "            RecordID_Int ParcelNumber  SaleAmount BookPage  year  month\n",
              "SaleDate                                                               \n",
              "1961-10-02          1001    030137000     18000.0  228:297  1961     10\n",
              "1961-10-02          1003    030138000     18000.0  228:297  1961     10\n",
              "1978-05-26          1004    030139000    120000.0  392:685  1978      5\n",
              "1998-02-11          1005    030139000    915000.0  712:342  1998      2\n",
              "1998-02-11          1006    030139100    915000.0  712:342  1998      2"
            ]
          },
          "metadata": {
            "tags": []
          },
          "execution_count": 10
        }
      ]
    },
    {
      "cell_type": "code",
      "metadata": {
        "id": "NwjffWskNjiX",
        "colab_type": "code",
        "colab": {
          "base_uri": "https://localhost:8080/",
          "height": 307
        },
        "outputId": "874601fd-0b14-449a-f1af-d6dc0fac9cc6"
      },
      "source": [
        "sns.scatterplot(x=\"year\", y=\"SaleAmount\", data=res, hue = \"month\")"
      ],
      "execution_count": 13,
      "outputs": [
        {
          "output_type": "execute_result",
          "data": {
            "text/plain": [
              "<matplotlib.axes._subplots.AxesSubplot at 0x7f8c9d6ab4e0>"
            ]
          },
          "metadata": {
            "tags": []
          },
          "execution_count": 13
        },
        {
          "output_type": "display_data",
          "data": {
            "image/png": "[encoded data removed]",
            "text/plain": [
              "<Figure size 432x288 with 1 Axes>"
            ]
          },
          "metadata": {
            "tags": []
          }
        }
      ]
    },
    {
      "cell_type": "code",
      "metadata": {
        "id": "mheRFO6PNjib",
        "colab_type": "code",
        "colab": {}
      },
      "source": [
        ""
      ],
      "execution_count": 0,
      "outputs": []
    }
  ]
}